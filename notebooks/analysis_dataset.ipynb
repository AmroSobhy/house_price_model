{
 "cells": [
  {
   "cell_type": "code",
   "execution_count": 23,
   "id": "c6e5d528",
   "metadata": {},
   "outputs": [],
   "source": [
    "import pandas as pd\n",
    "import numpy as np\n",
    "import seaborn as sns\n",
    "import string,re\n",
    "\n"
   ]
  },
  {
   "cell_type": "code",
   "execution_count": 24,
   "id": "56830c56",
   "metadata": {},
   "outputs": [
    {
     "name": "stdout",
     "output_type": "stream",
     "text": [
      "/Users/mac/Desktop/house_price_model/data/raw/properties.csv\n"
     ]
    }
   ],
   "source": [
    "path = ('/Users/mac/Desktop/house_price_model/data/raw/properties.csv')\n",
    "print(path)"
   ]
  },
  {
   "cell_type": "code",
   "execution_count": 25,
   "id": "212e455b",
   "metadata": {},
   "outputs": [
    {
     "name": "stdout",
     "output_type": "stream",
     "text": [
      "            type                                              title  \\\n",
      "0         Duplex     Prime Location Duplex Fully Finished With A\\C    \n",
      "1          Villa  Town house resale at Mivida Emaar with best price   \n",
      "2      Apartment   Lake View Residence - Apartment | Prime Location   \n",
      "3      Townhouse  Best Penthouse for sale in villette ( sky conds )   \n",
      "4      Penthouse  2nd Floor | Fully Finished | Lowest Price |Par...   \n",
      "...          ...                                                ...   \n",
      "11413      Villa  فيلا تشطيب الترا سوبر لوكس بالتجمع علي شارع رئ...   \n",
      "11414  Townhouse         town house for sale 220m Mountain View III   \n",
      "11415  Apartment        3 Bedrooms|Del 2026|5% Down|9 years install   \n",
      "11416  Penthouse        Very prime location penthouse 275m for sale   \n",
      "11417  Penthouse  Buy your unit with installments over 9 years M...   \n",
      "\n",
      "                                                location bedroom  bathroom  \\\n",
      "0      Park View, North Investors Area, New Cairo Cit...       4         4   \n",
      "1      Mivida, 5th Settlement Compounds, The 5th Sett...       3         3   \n",
      "2      Lake View Residence, 5th Settlement Compounds,...       3         3   \n",
      "3      La Vista City, New Capital Compounds, New Capi...       4         4   \n",
      "4      Villette, 5th Settlement Compounds, The 5th Se...       5         6   \n",
      "...                                                  ...     ...       ...   \n",
      "11413  Street70, District 2, The 5th Settlement, New ...       8         7   \n",
      "11414  Mountain View 3, 5th Settlement Compounds, The...       4         4   \n",
      "11415  IL Bosco City, Mostakbal City Compounds, Mosta...       3         3   \n",
      "11416  Stone Residence, 5th Settlement Compounds, The...       5         4   \n",
      "11417  Mountain View iCity, 5th Settlement Compounds,...       3         3   \n",
      "\n",
      "      size_sqm       price  \n",
      "0          345   6,850,000  \n",
      "1          285  10,000,000  \n",
      "2          210   5,700,000  \n",
      "3          230   7,510,000  \n",
      "4          284   8,511,300  \n",
      "...        ...         ...  \n",
      "11413    1,500  30,000,000  \n",
      "11414      220  10,276,891  \n",
      "11415      177   2,811,346  \n",
      "11416      275   3,000,000  \n",
      "11417      160   4,554,066  \n",
      "\n",
      "[11418 rows x 7 columns]\n"
     ]
    }
   ],
   "source": [
    "prop=pd.read_csv(path)\n",
    "print(prop)\n"
   ]
  },
  {
   "cell_type": "code",
   "execution_count": 26,
   "id": "1bd8b6ea",
   "metadata": {},
   "outputs": [
    {
     "name": "stdout",
     "output_type": "stream",
     "text": [
      "<class 'pandas.core.frame.DataFrame'>\n",
      "RangeIndex: 11418 entries, 0 to 11417\n",
      "Data columns (total 7 columns):\n",
      " #   Column    Non-Null Count  Dtype \n",
      "---  ------    --------------  ----- \n",
      " 0   type      11418 non-null  object\n",
      " 1   title     11418 non-null  object\n",
      " 2   location  11418 non-null  object\n",
      " 3   bedroom   11418 non-null  object\n",
      " 4   bathroom  11418 non-null  int64 \n",
      " 5   size_sqm  11418 non-null  object\n",
      " 6   price     11418 non-null  object\n",
      "dtypes: int64(1), object(6)\n",
      "memory usage: 624.5+ KB\n"
     ]
    }
   ],
   "source": [
    "prop.info()\n"
   ]
  },
  {
   "cell_type": "code",
   "execution_count": 27,
   "id": "47a7a860",
   "metadata": {},
   "outputs": [
    {
     "data": {
      "text/plain": [
       "type          10\n",
       "title       9941\n",
       "location     803\n",
       "bedroom       10\n",
       "bathroom       8\n",
       "size_sqm     718\n",
       "price       2497\n",
       "dtype: int64"
      ]
     },
     "execution_count": 27,
     "metadata": {},
     "output_type": "execute_result"
    }
   ],
   "source": [
    "prop.nunique()\n",
    "\n"
   ]
  },
  {
   "cell_type": "code",
   "execution_count": 28,
   "id": "585da0b5",
   "metadata": {},
   "outputs": [
    {
     "name": "stdout",
     "output_type": "stream",
     "text": [
      "<class 'pandas.core.frame.DataFrame'>\n",
      "RangeIndex: 11418 entries, 0 to 11417\n",
      "Data columns (total 7 columns):\n",
      " #   Column    Non-Null Count  Dtype \n",
      "---  ------    --------------  ----- \n",
      " 0   type      11418 non-null  object\n",
      " 1   title     11418 non-null  object\n",
      " 2   location  11418 non-null  object\n",
      " 3   bedroom   11418 non-null  object\n",
      " 4   bathroom  11418 non-null  int64 \n",
      " 5   size_sqm  11418 non-null  object\n",
      " 6   price     11418 non-null  object\n",
      "dtypes: int64(1), object(6)\n",
      "memory usage: 624.5+ KB\n"
     ]
    }
   ],
   "source": [
    "cprop=prop.copy()\n",
    "cprop.info()"
   ]
  },
  {
   "cell_type": "code",
   "execution_count": 29,
   "id": "1eae3284",
   "metadata": {},
   "outputs": [
    {
     "data": {
      "text/plain": [
       "Ask           412\n",
       "2,500,000     174\n",
       "3,000,000     168\n",
       "3,500,000     154\n",
       "4,000,000     131\n",
       "             ... \n",
       "18,500,001      1\n",
       "1,247,000       1\n",
       "6,558,000       1\n",
       "2,372,031       1\n",
       "4,554,066       1\n",
       "Name: price, Length: 2497, dtype: int64"
      ]
     },
     "execution_count": 29,
     "metadata": {},
     "output_type": "execute_result"
    }
   ],
   "source": [
    "cprop.price.value_counts()\n"
   ]
  },
  {
   "cell_type": "code",
   "execution_count": 30,
   "id": "26144b3c",
   "metadata": {},
   "outputs": [
    {
     "name": "stdout",
     "output_type": "stream",
     "text": [
      "0      6,850,000\n",
      "1     10,000,000\n",
      "2      5,700,000\n",
      "3      7,510,000\n",
      "4      8,511,300\n",
      "5      3,150,000\n",
      "6      3,500,000\n",
      "7      6,100,000\n",
      "8      2,278,506\n",
      "9      4,112,700\n",
      "10     5,500,000\n",
      "11     7,346,875\n",
      "12     4,200,000\n",
      "13     4,500,000\n",
      "14    16,000,000\n",
      "15     2,400,000\n",
      "16     3,200,000\n",
      "17     2,800,000\n",
      "18     9,200,000\n",
      "19    14,500,000\n",
      "20           Ask\n",
      "Name: price, dtype: object\n"
     ]
    }
   ],
   "source": [
    "c = prop['price']\n",
    "print(c.head(21))\n"
   ]
  },
  {
   "cell_type": "code",
   "execution_count": 41,
   "id": "082883d0",
   "metadata": {},
   "outputs": [
    {
     "data": {
      "text/html": [
       "<div>\n",
       "<style scoped>\n",
       "    .dataframe tbody tr th:only-of-type {\n",
       "        vertical-align: middle;\n",
       "    }\n",
       "\n",
       "    .dataframe tbody tr th {\n",
       "        vertical-align: top;\n",
       "    }\n",
       "\n",
       "    .dataframe thead th {\n",
       "        text-align: right;\n",
       "    }\n",
       "</style>\n",
       "<table border=\"1\" class=\"dataframe\">\n",
       "  <thead>\n",
       "    <tr style=\"text-align: right;\">\n",
       "      <th></th>\n",
       "      <th>type</th>\n",
       "      <th>title</th>\n",
       "      <th>location</th>\n",
       "      <th>bedroom</th>\n",
       "      <th>bathroom</th>\n",
       "      <th>size_sqm</th>\n",
       "      <th>price</th>\n",
       "    </tr>\n",
       "  </thead>\n",
       "  <tbody>\n",
       "    <tr>\n",
       "      <th>0</th>\n",
       "      <td>duplex</td>\n",
       "      <td>prime location duplex fully finished with a\\c</td>\n",
       "      <td>park view, north investors area, new cairo cit...</td>\n",
       "      <td>4</td>\n",
       "      <td>4</td>\n",
       "      <td>345</td>\n",
       "      <td>6,850,000</td>\n",
       "    </tr>\n",
       "    <tr>\n",
       "      <th>1</th>\n",
       "      <td>villa</td>\n",
       "      <td>town house resale at mivida emaar with best price</td>\n",
       "      <td>mivida, 5th settlement compounds, the 5th sett...</td>\n",
       "      <td>3</td>\n",
       "      <td>3</td>\n",
       "      <td>285</td>\n",
       "      <td>10,000,000</td>\n",
       "    </tr>\n",
       "    <tr>\n",
       "      <th>2</th>\n",
       "      <td>apartment</td>\n",
       "      <td>lake view residence - apartment | prime location</td>\n",
       "      <td>lake view residence, 5th settlement compounds,...</td>\n",
       "      <td>3</td>\n",
       "      <td>3</td>\n",
       "      <td>210</td>\n",
       "      <td>5,700,000</td>\n",
       "    </tr>\n",
       "    <tr>\n",
       "      <th>3</th>\n",
       "      <td>townhouse</td>\n",
       "      <td>best penthouse for sale in villette ( sky conds )</td>\n",
       "      <td>la vista city, new capital compounds, new capi...</td>\n",
       "      <td>4</td>\n",
       "      <td>4</td>\n",
       "      <td>230</td>\n",
       "      <td>7,510,000</td>\n",
       "    </tr>\n",
       "    <tr>\n",
       "      <th>4</th>\n",
       "      <td>penthouse</td>\n",
       "      <td>2nd floor | fully finished | lowest price |par...</td>\n",
       "      <td>villette, 5th settlement compounds, the 5th se...</td>\n",
       "      <td>5</td>\n",
       "      <td>6</td>\n",
       "      <td>284</td>\n",
       "      <td>8,511,300</td>\n",
       "    </tr>\n",
       "    <tr>\n",
       "      <th>...</th>\n",
       "      <td>...</td>\n",
       "      <td>...</td>\n",
       "      <td>...</td>\n",
       "      <td>...</td>\n",
       "      <td>...</td>\n",
       "      <td>...</td>\n",
       "      <td>...</td>\n",
       "    </tr>\n",
       "    <tr>\n",
       "      <th>11413</th>\n",
       "      <td>villa</td>\n",
       "      <td>فيلا تشطيب الترا سوبر لوكس بالتجمع علي شارع رئ...</td>\n",
       "      <td>street70, district 2, the 5th settlement, new ...</td>\n",
       "      <td>8</td>\n",
       "      <td>7</td>\n",
       "      <td>1,500</td>\n",
       "      <td>30,000,000</td>\n",
       "    </tr>\n",
       "    <tr>\n",
       "      <th>11414</th>\n",
       "      <td>townhouse</td>\n",
       "      <td>town house for sale 220m mountain view iii</td>\n",
       "      <td>mountain view 3, 5th settlement compounds, the...</td>\n",
       "      <td>4</td>\n",
       "      <td>4</td>\n",
       "      <td>220</td>\n",
       "      <td>10,276,891</td>\n",
       "    </tr>\n",
       "    <tr>\n",
       "      <th>11415</th>\n",
       "      <td>apartment</td>\n",
       "      <td>3 bedrooms|del 2026|5% down|9 years install</td>\n",
       "      <td>il bosco city, mostakbal city compounds, mosta...</td>\n",
       "      <td>3</td>\n",
       "      <td>3</td>\n",
       "      <td>177</td>\n",
       "      <td>2,811,346</td>\n",
       "    </tr>\n",
       "    <tr>\n",
       "      <th>11416</th>\n",
       "      <td>penthouse</td>\n",
       "      <td>very prime location penthouse 275m for sale</td>\n",
       "      <td>stone residence, 5th settlement compounds, the...</td>\n",
       "      <td>5</td>\n",
       "      <td>4</td>\n",
       "      <td>275</td>\n",
       "      <td>3,000,000</td>\n",
       "    </tr>\n",
       "    <tr>\n",
       "      <th>11417</th>\n",
       "      <td>penthouse</td>\n",
       "      <td>buy your unit with installments over 9 years m...</td>\n",
       "      <td>mountain view icity, 5th settlement compounds,...</td>\n",
       "      <td>3</td>\n",
       "      <td>3</td>\n",
       "      <td>160</td>\n",
       "      <td>4,554,066</td>\n",
       "    </tr>\n",
       "  </tbody>\n",
       "</table>\n",
       "<p>10969 rows × 7 columns</p>\n",
       "</div>"
      ],
      "text/plain": [
       "            type                                              title  \\\n",
       "0         duplex     prime location duplex fully finished with a\\c    \n",
       "1          villa  town house resale at mivida emaar with best price   \n",
       "2      apartment   lake view residence - apartment | prime location   \n",
       "3      townhouse  best penthouse for sale in villette ( sky conds )   \n",
       "4      penthouse  2nd floor | fully finished | lowest price |par...   \n",
       "...          ...                                                ...   \n",
       "11413      villa  فيلا تشطيب الترا سوبر لوكس بالتجمع علي شارع رئ...   \n",
       "11414  townhouse         town house for sale 220m mountain view iii   \n",
       "11415  apartment        3 bedrooms|del 2026|5% down|9 years install   \n",
       "11416  penthouse        very prime location penthouse 275m for sale   \n",
       "11417  penthouse  buy your unit with installments over 9 years m...   \n",
       "\n",
       "                                                location bedroom  bathroom  \\\n",
       "0      park view, north investors area, new cairo cit...       4         4   \n",
       "1      mivida, 5th settlement compounds, the 5th sett...       3         3   \n",
       "2      lake view residence, 5th settlement compounds,...       3         3   \n",
       "3      la vista city, new capital compounds, new capi...       4         4   \n",
       "4      villette, 5th settlement compounds, the 5th se...       5         6   \n",
       "...                                                  ...     ...       ...   \n",
       "11413  street70, district 2, the 5th settlement, new ...       8         7   \n",
       "11414  mountain view 3, 5th settlement compounds, the...       4         4   \n",
       "11415  il bosco city, mostakbal city compounds, mosta...       3         3   \n",
       "11416  stone residence, 5th settlement compounds, the...       5         4   \n",
       "11417  mountain view icity, 5th settlement compounds,...       3         3   \n",
       "\n",
       "      size_sqm       price  \n",
       "0          345   6,850,000  \n",
       "1          285  10,000,000  \n",
       "2          210   5,700,000  \n",
       "3          230   7,510,000  \n",
       "4          284   8,511,300  \n",
       "...        ...         ...  \n",
       "11413    1,500  30,000,000  \n",
       "11414      220  10,276,891  \n",
       "11415      177   2,811,346  \n",
       "11416      275   3,000,000  \n",
       "11417      160   4,554,066  \n",
       "\n",
       "[10969 rows x 7 columns]"
      ]
     },
     "execution_count": 41,
     "metadata": {},
     "output_type": "execute_result"
    }
   ],
   "source": [
    "testingrows=cprop.loc[cprop.price=='Ask']\n",
    "cprop=cprop.drop(cprop.loc[cprop.price=='Ask'].index,axis=0)\n",
    "cprop=cprop.drop(cprop.loc[cprop.bedroom=='{0}'].index,axis=0)\n",
    "cprop=cprop.drop(cprop.loc[cprop.bedroom=='Studio'].index,axis=0)\n",
    "cprop\n"
   ]
  },
  {
   "cell_type": "code",
   "execution_count": 44,
   "id": "72ba0638",
   "metadata": {},
   "outputs": [],
   "source": [
    "cprop.title=cprop.title.apply(lambda m:m.lower())\n",
    "cprop.location=cprop.location.apply(lambda m:m.lower())\n",
    "cprop.type=cprop.type.apply(lambda m:m.lower())\n",
    "\n",
    "cprop.price=cprop.price.apply(lambda m:m.replace(',',''))\n",
    "cprop.price=cprop['price'].astype('int64')\n",
    "\n",
    "cprop.bedroom=cprop.bedroom.apply(lambda m:m.replace(',',''))\n",
    "cprop.bedroom=cprop['bedroom'].astype('int64')\n",
    "\n",
    "cprop.size_sqm=cprop.size_sqm.apply(lambda m:m.replace(',',''))\n",
    "cprop.size_sqm=cprop['size_sqm'].astype('int64')\n",
    "\n"
   ]
  },
  {
   "cell_type": "code",
   "execution_count": 45,
   "id": "9abba150",
   "metadata": {},
   "outputs": [
    {
     "name": "stdout",
     "output_type": "stream",
     "text": [
      "<class 'pandas.core.frame.DataFrame'>\n",
      "Int64Index: 10969 entries, 0 to 11417\n",
      "Data columns (total 7 columns):\n",
      " #   Column    Non-Null Count  Dtype \n",
      "---  ------    --------------  ----- \n",
      " 0   type      10969 non-null  object\n",
      " 1   title     10969 non-null  object\n",
      " 2   location  10969 non-null  object\n",
      " 3   bedroom   10969 non-null  int64 \n",
      " 4   bathroom  10969 non-null  int64 \n",
      " 5   size_sqm  10969 non-null  int64 \n",
      " 6   price     10969 non-null  int64 \n",
      "dtypes: int64(4), object(3)\n",
      "memory usage: 685.6+ KB\n"
     ]
    }
   ],
   "source": [
    "cprop.info()\n"
   ]
  },
  {
   "cell_type": "code",
   "execution_count": 43,
   "id": "ba179adb",
   "metadata": {},
   "outputs": [
    {
     "data": {
      "text/plain": [
       "160    267\n",
       "200    263\n",
       "300    183\n",
       "220    178\n",
       "165    164\n",
       "      ... \n",
       "803      1\n",
       "649      1\n",
       "463      1\n",
       "973      1\n",
       "719      1\n",
       "Name: size_sqm, Length: 701, dtype: int64"
      ]
     },
     "execution_count": 43,
     "metadata": {},
     "output_type": "execute_result"
    }
   ],
   "source": [
    "\n",
    "cprop.size_sqm.value_counts()\n"
   ]
  },
  {
   "cell_type": "code",
   "execution_count": null,
   "id": "be0ff28b",
   "metadata": {},
   "outputs": [],
   "source": []
  },
  {
   "cell_type": "code",
   "execution_count": null,
   "id": "5ee28b64",
   "metadata": {},
   "outputs": [],
   "source": []
  },
  {
   "cell_type": "code",
   "execution_count": null,
   "id": "77d69cca",
   "metadata": {},
   "outputs": [],
   "source": []
  }
 ],
 "metadata": {
  "kernelspec": {
   "display_name": "Python 3 (ipykernel)",
   "language": "python",
   "name": "python3"
  },
  "language_info": {
   "codemirror_mode": {
    "name": "ipython",
    "version": 3
   },
   "file_extension": ".py",
   "mimetype": "text/x-python",
   "name": "python",
   "nbconvert_exporter": "python",
   "pygments_lexer": "ipython3",
   "version": "3.9.12"
  }
 },
 "nbformat": 4,
 "nbformat_minor": 5
}
